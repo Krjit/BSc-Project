{
 "cells": [
  {
   "cell_type": "code",
   "execution_count": 16,
   "metadata": {},
   "outputs": [],
   "source": [
    "# import tensorflow as tf\n",
    "import keras \n",
    "import matplotlib.pyplot as plt\n",
    "%matplotlib inline\n",
    "import numpy as np\n",
    "import pandas as pd"
   ]
  },
  {
   "cell_type": "code",
   "execution_count": 38,
   "metadata": {},
   "outputs": [],
   "source": [
    "dataset = pd.read_csv('18-21_data.csv')\n",
    "X = dataset.iloc[:, :-1]#.values\n",
    "y = dataset.iloc[:, -1]#.values"
   ]
  },
  {
   "cell_type": "code",
   "execution_count": 39,
   "metadata": {},
   "outputs": [],
   "source": [
    "# from imblearn.over_sampling import SMOTEN\n",
    "# smote = SMOTEN()\n",
    "# X, y = smote.fit_resample(X, y)\n",
    "# y.value_counts()"
   ]
  },
  {
   "cell_type": "code",
   "execution_count": 40,
   "metadata": {},
   "outputs": [],
   "source": [
    "from sklearn.model_selection import train_test_split\n",
    "X_train, X_test, y_train, y_test = train_test_split(X, y, test_size = 0.30, random_state = 42)"
   ]
  },
  {
   "cell_type": "code",
   "execution_count": 41,
   "metadata": {},
   "outputs": [
    {
     "data": {
      "text/plain": [
       "(356, 12)"
      ]
     },
     "execution_count": 41,
     "metadata": {},
     "output_type": "execute_result"
    }
   ],
   "source": [
    "X_test.shape"
   ]
  },
  {
   "cell_type": "code",
   "execution_count": 42,
   "metadata": {},
   "outputs": [],
   "source": [
    "# X_test"
   ]
  },
  {
   "cell_type": "code",
   "execution_count": 43,
   "metadata": {},
   "outputs": [],
   "source": [
    "# y_test"
   ]
  },
  {
   "cell_type": "code",
   "execution_count": 49,
   "metadata": {},
   "outputs": [
    {
     "name": "stdout",
     "output_type": "stream",
     "text": [
      "Epoch 1/10\n",
      "26/26 [==============================] - 2s 3ms/step - loss: 9.2079 - accuracy: 0.9048\n",
      "Epoch 2/10\n",
      "26/26 [==============================] - 0s 4ms/step - loss: 0.0509 - accuracy: 0.9880\n",
      "Epoch 3/10\n",
      "26/26 [==============================] - 0s 3ms/step - loss: 0.0407 - accuracy: 0.9843\n",
      "Epoch 4/10\n",
      "26/26 [==============================] - 0s 4ms/step - loss: 0.0310 - accuracy: 0.9916\n",
      "Epoch 5/10\n",
      "26/26 [==============================] - 0s 4ms/step - loss: 0.0271 - accuracy: 0.9904\n",
      "Epoch 6/10\n",
      "26/26 [==============================] - 0s 4ms/step - loss: 0.0275 - accuracy: 0.9892\n",
      "Epoch 7/10\n",
      "26/26 [==============================] - 0s 4ms/step - loss: 0.0237 - accuracy: 0.9904\n",
      "Epoch 8/10\n",
      "26/26 [==============================] - 0s 6ms/step - loss: 0.0234 - accuracy: 0.9940\n",
      "Epoch 9/10\n",
      "26/26 [==============================] - 0s 7ms/step - loss: 0.0207 - accuracy: 0.9928\n",
      "Epoch 10/10\n",
      "26/26 [==============================] - 0s 5ms/step - loss: 0.0200 - accuracy: 0.9940\n"
     ]
    },
    {
     "data": {
      "text/plain": [
       "<keras.callbacks.History at 0x22f84e380d0>"
      ]
     },
     "execution_count": 49,
     "metadata": {},
     "output_type": "execute_result"
    }
   ],
   "source": [
    "model = keras.Sequential([\n",
    "    keras.layers.Dense(40, input_shape=(12,), activation='relu'),\n",
    "    keras.layers.Dense(26, activation='relu'),\n",
    "    # keras.layers.Dense(16, activation='relu'),\n",
    "    keras.layers.Dense(10, activation='relu'),\n",
    "    keras.layers.Dense(1, activation='sigmoid')\n",
    "])\n",
    "\n",
    "model.compile(optimizer='sgd',\n",
    "              loss='binary_crossentropy',\n",
    "              metrics=['accuracy'])\n",
    "\n",
    "model.fit(X_train, y_train, epochs=10)"
   ]
  },
  {
   "cell_type": "code",
   "execution_count": 50,
   "metadata": {},
   "outputs": [
    {
     "name": "stdout",
     "output_type": "stream",
     "text": [
      "12/12 [==============================] - 0s 2ms/step - loss: 0.0283 - accuracy: 0.9831\n"
     ]
    },
    {
     "data": {
      "text/plain": [
       "[0.028291922062635422, 0.983146071434021]"
      ]
     },
     "execution_count": 50,
     "metadata": {},
     "output_type": "execute_result"
    }
   ],
   "source": [
    "model.evaluate(X_test, y_test)"
   ]
  }
 ],
 "metadata": {
  "kernelspec": {
   "display_name": "Python 3.10.4 64-bit",
   "language": "python",
   "name": "python3"
  },
  "language_info": {
   "codemirror_mode": {
    "name": "ipython",
    "version": 3
   },
   "file_extension": ".py",
   "mimetype": "text/x-python",
   "name": "python",
   "nbconvert_exporter": "python",
   "pygments_lexer": "ipython3",
   "version": "3.10.1"
  },
  "orig_nbformat": 4,
  "vscode": {
   "interpreter": {
    "hash": "306bc892ea967f84a5c48ab9b18b93ea1316fb028bb2c602ea80ae04c43397d7"
   }
  }
 },
 "nbformat": 4,
 "nbformat_minor": 2
}
